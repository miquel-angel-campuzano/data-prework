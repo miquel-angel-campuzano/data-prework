{
 "cells": [
  {
   "cell_type": "markdown",
   "metadata": {},
   "source": [
    "<img src=\"https://bit.ly/2VnXWr2\" width=\"100\" align=\"left\">"
   ]
  },
  {
   "cell_type": "markdown",
   "metadata": {},
   "source": [
    "# Rock, Paper & Scissors\n",
    "\n",
    "Let's play the famous game against our computer. You can check the rules [here](https://en.wikipedia.org/wiki/Rock%E2%80%93paper%E2%80%93scissors). \n",
    "\n",
    "## Task\n",
    "Create a program that imitates the playability of the well known game of rock, paper, scissors. Follow the guidelines provided.\n",
    "\n",
    "## Tools\n",
    "1. Loop: **for/while**\n",
    "2. Functions: **input(), print()...**\n",
    "3. Conditional statements: **if, elif, else**\n",
    "4. Definition of functions. Modular programming\n",
    "5. Import modules\n",
    "\n",
    "**To solve this challenge, the use of functions is recommended.**\n",
    "\n",
    "#### 1. Import the choice function of the random module."
   ]
  },
  {
   "cell_type": "code",
   "execution_count": 1,
   "metadata": {},
   "outputs": [],
   "source": [
    "import random\n"
   ]
  },
  {
   "cell_type": "markdown",
   "metadata": {},
   "source": [
    "#### 2. Create a list that includes the 3 possible gesture options of the game: 'rock', 'paper' or 'scissors'. Store the list in a variable called `gestures`."
   ]
  },
  {
   "cell_type": "code",
   "execution_count": 2,
   "metadata": {},
   "outputs": [],
   "source": [
    "gestures = [\"rock\", \"paper\",\"scissors\"]\n"
   ]
  },
  {
   "cell_type": "markdown",
   "metadata": {},
   "source": [
    "#### 3. Create a variable called `n_rounds` to store the maximum number of rounds to play in a game. \n",
    "Remember that the number of rounds must be odd: 1, 3, 5, ..."
   ]
  },
  {
   "cell_type": "code",
   "execution_count": 3,
   "metadata": {},
   "outputs": [],
   "source": [
    "n_rounds = 3\n",
    "\n"
   ]
  },
  {
   "cell_type": "markdown",
   "metadata": {},
   "source": [
    "#### 4. Create a variable called `rounds_to_win` to store the number of rounds that a player must win to win the game.\n",
    "**Hint**: the value stored in `rounds_to_win` depends on the value of `n_rounds`. "
   ]
  },
  {
   "cell_type": "code",
   "execution_count": 4,
   "metadata": {},
   "outputs": [
    {
     "data": {
      "text/plain": [
       "2"
      ]
     },
     "execution_count": 4,
     "metadata": {},
     "output_type": "execute_result"
    }
   ],
   "source": [
    "rounds_to_win = int(n_rounds/2) + 1\n",
    "\n",
    "rounds_to_win"
   ]
  },
  {
   "cell_type": "markdown",
   "metadata": {},
   "source": [
    "#### 5. Create two variables to store the number of rounds that the computer and the player have won. Call these variables `cpu_score` and `player_score`."
   ]
  },
  {
   "cell_type": "code",
   "execution_count": 5,
   "metadata": {},
   "outputs": [],
   "source": [
    "cpu_score = 0\n",
    "player_score = 0"
   ]
  },
  {
   "cell_type": "markdown",
   "metadata": {},
   "source": [
    "#### 6. Define a function that randomly returns one of the 3 gesture options.\n",
    "You will use this function to simulate the gesture choice of the computer. "
   ]
  },
  {
   "cell_type": "code",
   "execution_count": 6,
   "metadata": {},
   "outputs": [
    {
     "data": {
      "text/plain": [
       "'rock'"
      ]
     },
     "execution_count": 6,
     "metadata": {},
     "output_type": "execute_result"
    }
   ],
   "source": [
    "def choice_cpu(x):\n",
    "    return random.choice(x)\n",
    "\n",
    "choice_cpu(gestures)"
   ]
  },
  {
   "cell_type": "markdown",
   "metadata": {},
   "source": [
    "#### 7. Define a function that asks the player which is the gesture he or she wants to show: 'rock', 'paper' or 'scissors'.\n",
    "The player should only be allowed to choose one of the 3 gesture options. If the player's choice is not rock, paper or scissors, keep asking until it is."
   ]
  },
  {
   "cell_type": "code",
   "execution_count": 7,
   "metadata": {},
   "outputs": [],
   "source": [
    "def choice_player():\n",
    "    print(\"Enter rock, paper or scissors: \")\n",
    "    x = input()\n",
    "    while x not in (\"rock\", \"paper\", \"scissors\"):\n",
    "        print(\"Wrong input, enter rock, paper or scissors: \")\n",
    "        x = input()\n",
    "    return x\n",
    "\n",
    "\n"
   ]
  },
  {
   "cell_type": "markdown",
   "metadata": {},
   "source": [
    "#### 8. Define a function that checks who won a round. \n",
    "The function should return 0 if there is a tie, 1 if the computer wins and 2 if the player wins."
   ]
  },
  {
   "cell_type": "code",
   "execution_count": 8,
   "metadata": {},
   "outputs": [],
   "source": [
    "def who_won():\n",
    "    \n",
    "    p = choice_player()\n",
    "    c = choice_cpu(gestures)\n",
    "    \n",
    "\n",
    "    if c == \"paper\" and p == \"paper\":\n",
    "        won = 0\n",
    "    elif c == \"paper\" and p == \"scissors\":\n",
    "        won = 2\n",
    "    elif c == \"paper\" and p == \"rock\":\n",
    "        won = 1\n",
    "    elif c == \"scissors\" and p == \"paper\":\n",
    "        won = 1\n",
    "    elif c == \"scissors\" and p == \"scissors\":\n",
    "        won = 0\n",
    "    elif c == \"scissors\" and p == \"rock\":\n",
    "        won = 2\n",
    "    elif c == \"rock\" and p == \"paper\":\n",
    "        won = 2\n",
    "    elif c == \"rock\" and p == \"scissors\":\n",
    "        won = 1\n",
    "    else:\n",
    "        won = 0\n",
    "    return won\n",
    "    \n"
   ]
  },
  {
   "cell_type": "markdown",
   "metadata": {},
   "source": [
    "#### 9. Define a function that prints the choice of the computer, the choice of the player and a message that announces who won the current round. \n",
    "You should also use this function to update the variables that count the number of rounds that the computer and the player have won. The score of the winner increases by one point. If there is a tie, the score does not increase."
   ]
  },
  {
   "cell_type": "code",
   "execution_count": 9,
   "metadata": {},
   "outputs": [],
   "source": [
    "def battle():\n",
    "    global player_score\n",
    "    global cpu_score\n",
    "    global p\n",
    "    global c\n",
    "    winner = who_won()\n",
    "    if winner == 0:\n",
    "        player_score = player_score\n",
    "        cpu_score = cpu_score\n",
    "    elif winner == 1:\n",
    "        player_score = player_score\n",
    "        cpu_score += 1\n",
    "    else:\n",
    "        player_score += 1\n",
    "        cpu_score = cpu_score\n",
    "    if winner == 0:\n",
    "        return print(\"Tie\")\n",
    "    elif winner == 1:\n",
    "        return print(\"Cpu won\")\n",
    "    else:\n",
    "        return print(\"Player Won\")\n",
    "        \n"
   ]
  },
  {
   "cell_type": "markdown",
   "metadata": {},
   "source": [
    "#### 10. Now it's time to code the execution of the game using the functions and variables you defined above. \n",
    "\n",
    "First, create a loop structure that repeats while no player reaches the minimum score necessary to win and the number of rounds is less than the maximum number of rounds to play in a game.  \n",
    "\n",
    "Inside the loop, use the functions and variables above to create the execution of a round: ask for the player's choice, generate the random choice of the computer, show the round results, update the scores, etc. "
   ]
  },
  {
   "cell_type": "code",
   "execution_count": 10,
   "metadata": {},
   "outputs": [
    {
     "name": "stdout",
     "output_type": "stream",
     "text": [
      "Enter rock, paper or scissors: \n",
      "rock\n",
      "Cpu won\n",
      "0\n",
      "1\n",
      "Enter rock, paper or scissors: \n",
      "rock\n",
      "Cpu won\n",
      "0\n",
      "2\n"
     ]
    }
   ],
   "source": [
    "while cpu_score < rounds_to_win and player_score < rounds_to_win:\n",
    "    battle()\n",
    "    print(player_score)\n",
    "    print(cpu_score)\n",
    "\n",
    "    "
   ]
  },
  {
   "cell_type": "markdown",
   "metadata": {},
   "source": [
    "#### 11. Print the winner of the game based on who won more rounds.\n",
    "Remember that the game might be tied. "
   ]
  },
  {
   "cell_type": "code",
   "execution_count": 11,
   "metadata": {},
   "outputs": [
    {
     "name": "stdout",
     "output_type": "stream",
     "text": [
      "Congratulations CPU, you won!\n"
     ]
    }
   ],
   "source": [
    "if player_score > cpu_score:\n",
    "    \n",
    "    print(\"Congratulations Player, you won!\")\n",
    "else:\n",
    "    print(\"Congratulations CPU, you won!\")"
   ]
  },
  {
   "cell_type": "markdown",
   "metadata": {},
   "source": [
    "# Bonus: Rock, Paper, Scissors, Lizard & Spock\n",
    "![](images/rpsls.jpg)\n",
    "\n",
    "In this challenge, you need to improve the previous game by adding two new options. To know more about the rules of the improved version of rock, paper, scissors, check this [link](http://www.samkass.com/theories/RPSSL.html). \n",
    "\n",
    "In addition, you will also need to improve how the game interacts with the player: the number of rounds to play, which must be an odd number, will be requested to the user until a valid number is entered. Define a new function to make that request.\n",
    "\n",
    "**Hint**: Try to reuse the code that you already coded in the previous challenge. If your code is efficient, this bonus will only consist of simple modifications to the original game."
   ]
  },
  {
   "cell_type": "code",
   "execution_count": 34,
   "metadata": {},
   "outputs": [
    {
     "name": "stdout",
     "output_type": "stream",
     "text": [
      "How many rounds do you want to play?3\n",
      "Enter rock, paper, scissors, spock or lizzard: \n",
      "spock\n",
      "Player played  spock  and cpu played  paper , CPU won. CPU needs to win 1  more rounds to win the game, and Player needs to win  2  more rounds to win the game\n",
      "Enter rock, paper, scissors, spock or lizzard: \n",
      "spock\n",
      "Player played  spock  and cpu played  scissors , Player won. Player needs to win 1  more rounds to win the game, and CPU needs to win  1  more rounds to win the game\n",
      "Enter rock, paper, scissors, spock or lizzard: \n",
      "rock\n",
      "Player played  rock  and cpu played  paper , CPU won. CPU needs to win 0  more rounds to win the game, and Player needs to win  1  more rounds to win the game\n",
      "Congratulations CPU, you won!\n"
     ]
    }
   ],
   "source": [
    "rounds_to_win_2 = 0\n",
    "number_rounds = 0\n",
    "def rounds_to_win():\n",
    "    global rounds_to_win_2\n",
    "    global number_rounds\n",
    "    number_rounds = float(input((\"How many rounds do you want to play?\")))\n",
    "    while (number_rounds % 2) == 0:\n",
    "        number_rounds = float(input((\"You must enter an odd number: \")))\n",
    "    rounds_to_win_2 = int(number_rounds/2) + 1\n",
    "    return rounds_to_win_2\n",
    "\n",
    "gestures = [\"rock\", \"paper\",\"scissors\", \"spock\", \"lizzard\"]\n",
    "\n",
    "cpu_score = 0\n",
    "player_score = 0\n",
    "\n",
    "def choice_cpu(x):\n",
    "    return random.choice(x)\n",
    "\n",
    "def choice_player():\n",
    "    print(\"Enter rock, paper, scissors, spock or lizzard: \")\n",
    "    x = input()\n",
    "    while x not in (\"rock\", \"paper\", \"scissors\", \"spock\", \"lizzard\"):\n",
    "        print(\"Wrong input, enter rock, paper, scissors, spock or lizzard: \")\n",
    "        x = input()\n",
    "    return x\n",
    "p = \"choice\"\n",
    "c = \"choice\"\n",
    "def who_won():\n",
    "    global p\n",
    "    global c\n",
    "    p = choice_player()\n",
    "    c = choice_cpu(gestures)\n",
    "    \n",
    "\n",
    "    if c == \"paper\" and p == \"paper\":\n",
    "        won = 0\n",
    "    elif c == \"paper\" and p == \"scissors\":\n",
    "        won = 2\n",
    "    elif c == \"paper\" and p == \"rock\":\n",
    "        won = 1\n",
    "    elif c == \"paper\" and p == \"spock\":\n",
    "        won = 1\n",
    "    elif c == \"paper\" and p == \"lizzard\":\n",
    "        won = 2\n",
    "    elif c == \"scissors\" and p == \"paper\":\n",
    "        won = 1\n",
    "    elif c == \"scissors\" and p == \"scissors\":\n",
    "        won = 0\n",
    "    elif c == \"scissors\" and p == \"rock\":\n",
    "        won = 2\n",
    "    elif c == \"scissors\" and p == \"spock\":\n",
    "        won = 2\n",
    "    elif c == \"scissors\" and p == \"lizzard\":\n",
    "        won = 1\n",
    "    elif c == \"rock\" and p == \"paper\":\n",
    "        won = 2\n",
    "    elif c == \"rock\" and p == \"scissors\":\n",
    "        won = 1\n",
    "    elif c == \"rock\" and p == \"rock\":\n",
    "        won = 0\n",
    "    elif c == \"rock\" and p == \"spock\":\n",
    "        won = 2\n",
    "    elif c == \"rock\" and p == \"lizzard\":\n",
    "        won = 1\n",
    "    elif c == \"spock\" and p == \"paper\":\n",
    "        won = 2\n",
    "    elif c == \"spock\" and p == \"scissors\":\n",
    "        won = 1\n",
    "    elif c == \"spock\" and p == \"rock\":\n",
    "        won = 1\n",
    "    elif c == \"spock\" and p == \"spock\":\n",
    "        won = 0\n",
    "    elif c == \"spock\" and p == \"lizzard\":\n",
    "        won = 2\n",
    "    elif c == \"lizzard\" and p == \"paper\":\n",
    "        won = 1\n",
    "    elif c == \"lizzard\" and p == \"scissors\":\n",
    "        won = 2\n",
    "    elif c == \"lizzard\" and p == \"rock\":\n",
    "        won = 2\n",
    "    elif c == \"lizzard\" and p == \"spock\":\n",
    "        won = 1\n",
    "    else:\n",
    "        won = 0\n",
    "    return won\n",
    "\n",
    "def battle():\n",
    "    global player_score\n",
    "    global cpu_score\n",
    "    global p\n",
    "    global c\n",
    "    winner = who_won()\n",
    "    if winner == 0:\n",
    "        player_score = player_score\n",
    "        cpu_score = cpu_score\n",
    "    elif winner == 1:\n",
    "        player_score = player_score\n",
    "        cpu_score += 1\n",
    "    else:\n",
    "        player_score += 1\n",
    "        cpu_score = cpu_score\n",
    "    if winner == 0:\n",
    "        return print(\"Player played \", p, \" and cpu played \", c, \", it was a TIE\", \"Player needs to win \", rounds_to_win_2 - player_score, \" more rounds to win the game, and CPU needs to win \", rounds_to_win_2 - cpu_score, \" more rounds to win the game\" )\n",
    "    elif winner == 1:\n",
    "        return print(\"Player played \", p, \" and cpu played \", c, \", CPU won. CPU needs to win\", rounds_to_win_2 - cpu_score, \" more rounds to win the game, and Player needs to win \", rounds_to_win_2 - player_score, \" more rounds to win the game\")\n",
    "    else:\n",
    "        return print(\"Player played \", p, \" and cpu played \", c, \", Player won. Player needs to win\", rounds_to_win_2 - player_score, \" more rounds to win the game, and CPU needs to win \", rounds_to_win_2 - cpu_score, \" more rounds to win the game\")\n",
    "    \n",
    "rounds_to_win()\n",
    "\n",
    "while cpu_score < rounds_to_win_2 and player_score < rounds_to_win_2:\n",
    "    battle()\n",
    "    \n",
    "\n",
    "\n",
    "if player_score > cpu_score:\n",
    "    \n",
    "    print(\"Congratulations Player, you won!\")\n",
    "else:\n",
    "    print(\"Congratulations CPU, you won!\")\n"
   ]
  },
  {
   "cell_type": "markdown",
   "metadata": {},
   "source": []
  }
 ],
 "metadata": {
  "kernelspec": {
   "display_name": "Python 3",
   "language": "python",
   "name": "python3"
  },
  "language_info": {
   "codemirror_mode": {
    "name": "ipython",
    "version": 3
   },
   "file_extension": ".py",
   "mimetype": "text/x-python",
   "name": "python",
   "nbconvert_exporter": "python",
   "pygments_lexer": "ipython3",
   "version": "3.7.1"
  }
 },
 "nbformat": 4,
 "nbformat_minor": 2
}
